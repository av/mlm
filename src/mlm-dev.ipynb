{
 "cells": [
  {
   "cell_type": "code",
   "execution_count": 1,
   "metadata": {},
   "outputs": [
    {
     "name": "stdout",
     "output_type": "stream",
     "text": [
      "Sat May 11 07:17:50 2024       \n",
      "+-----------------------------------------------------------------------------------------+\n",
      "| NVIDIA-SMI 550.67                 Driver Version: 550.67         CUDA Version: 12.4     |\n",
      "|-----------------------------------------+------------------------+----------------------+\n",
      "| GPU  Name                 Persistence-M | Bus-Id          Disp.A | Volatile Uncorr. ECC |\n",
      "| Fan  Temp   Perf          Pwr:Usage/Cap |           Memory-Usage | GPU-Util  Compute M. |\n",
      "|                                         |                        |               MIG M. |\n",
      "|=========================================+========================+======================|\n",
      "|   0  NVIDIA GeForce RTX 4090 ...    Off |   00000000:01:00.0 Off |                  N/A |\n",
      "| N/A   35C    P8              1W /  150W |      10MiB /  16376MiB |      0%      Default |\n",
      "|                                         |                        |                  N/A |\n",
      "+-----------------------------------------+------------------------+----------------------+\n",
      "                                                                                         \n",
      "+-----------------------------------------------------------------------------------------+\n",
      "| Processes:                                                                              |\n",
      "|  GPU   GI   CI        PID   Type   Process name                              GPU Memory |\n",
      "|        ID   ID                                                               Usage      |\n",
      "|=========================================================================================|\n",
      "+-----------------------------------------------------------------------------------------+\n"
     ]
    }
   ],
   "source": [
    "!nvidia-smi"
   ]
  },
  {
   "cell_type": "code",
   "execution_count": 2,
   "metadata": {},
   "outputs": [
    {
     "data": {
      "text/plain": [
       "True"
      ]
     },
     "execution_count": 2,
     "metadata": {},
     "output_type": "execute_result"
    }
   ],
   "source": [
    "import torch\n",
    "\n",
    "torch.cuda.is_available()"
   ]
  },
  {
   "cell_type": "code",
   "execution_count": 3,
   "metadata": {},
   "outputs": [
    {
     "name": "stderr",
     "output_type": "stream",
     "text": [
      "/usr/local/lib/python3.8/dist-packages/tqdm/auto.py:21: TqdmWarning: IProgress not found. Please update jupyter and ipywidgets. See https://ipywidgets.readthedocs.io/en/stable/user_install.html\n",
      "  from .autonotebook import tqdm as notebook_tqdm\n"
     ]
    }
   ],
   "source": [
    "from datasets import load_dataset\n",
    "\n",
    "dataset = load_dataset(\"lhoestq/demo1\")"
   ]
  },
  {
   "cell_type": "code",
   "execution_count": 4,
   "metadata": {},
   "outputs": [
    {
     "data": {
      "text/plain": [
       "{'train': MemoryMappedTable\n",
       " id: string\n",
       " package_name: string\n",
       " review: string\n",
       " date: string\n",
       " star: int64\n",
       " version_id: int64\n",
       " ----\n",
       " id: [[\"7bd227d9-afc9-11e6-aba1-c4b301cdf627\",\"7bd22905-afc9-11e6-a5dc-c4b301cdf627\",\"7bd2299c-afc9-11e6-85d6-c4b301cdf627\",\"7bd22a26-afc9-11e6-9309-c4b301cdf627\",\"7bd22aba-afc9-11e6-8293-c4b301cdf627\"]]\n",
       " package_name: [[\"com.mantz_it.rfanalyzer\",\"com.mantz_it.rfanalyzer\",\"com.mantz_it.rfanalyzer\",\"com.mantz_it.rfanalyzer\",\"com.mantz_it.rfanalyzer\"]]\n",
       " review: [[\"Great app! The new version now works on my Bravia Android TV which is great as it's right by my rooftop aerial cable. The scan feature would be useful...any ETA on when this will be available? Also the option to import a list of bookmarks e.g. from a simple properties file would be useful.\",\"Great It's not fully optimised and has some issues with crashing but still a nice app  especially considering the price and it's open source.\",\"Works on a Nexus 6p I'm still messing around with my hackrf but it works with my Nexus 6p  Trond usb-c to usb host adapter. Thanks!\",\"The bandwidth seemed to be limited to maximum 2 MHz or so. I tried to increase the bandwidth but not possible. I purchased this is because one of the pictures in the advertisement showed the 2.4GHz band with around 10MHz or more bandwidth. Is it not possible to increase the bandwidth? If not  it is just the same performance as other free APPs.\",\"Works well with my Hackrf Hopefully new updates will arrive for extra functions\"]]\n",
       " date: [[\"October 12 2016\",\"August 23 2016\",\"August 04 2016\",\"July 25 2016\",\"July 22 2016\"]]\n",
       " star: [[4,4,5,3,5]]\n",
       " version_id: [[1487,1487,1487,1487,1487]],\n",
       " 'test': MemoryMappedTable\n",
       " id: string\n",
       " package_name: string\n",
       " review: string\n",
       " date: string\n",
       " star: int64\n",
       " version_id: int64\n",
       " ----\n",
       " id: [[\"7bd22c54-afc9-11e6-98dc-c4b301cdf627\",\"7bd22cd9-afc9-11e6-9322-c4b301cdf627\",\"7bd22d59-afc9-11e6-a7a7-c4b301cdf627\",\"7bd22ddc-afc9-11e6-9a16-c4b301cdf627\",\"7bd22e5c-afc9-11e6-8a41-c4b301cdf627\"]]\n",
       " package_name: [[\"com.mantz_it.rfanalyzer\",\"com.mantz_it.rfanalyzer\",\"com.mantz_it.rfanalyzer\",\"com.mantz_it.rfanalyzer\",\"com.mantz_it.rfanalyzer\"]]\n",
       " review: [[\"Works with RTL and Nextbook Aries 8. Demod stops working if the scan width is changed requiring restart.\",\"Works with RTL SDR Works but no audio when demodulating\",\"Awsome App! Easy to use  works great on Notes w / Realtek dongle.\",\"I'll forgo the refund. But no go with Watson dongle... Nexus 9. Yet to try on Nexus 6p. So very disappointed!!! :-(\",\"looks like a great program  1 of its kind I don't have the necessary hardware to utilize it though.\"]]\n",
       " date: [[\"May 19 2016\",\"April 24 2016\",\"April 16 2016\",\"March 31 2016\",\"March 30 2016\"]]\n",
       " star: [[5,3,5,1,4]]\n",
       " version_id: [[1487,1487,1487,1487,1487]]}"
      ]
     },
     "execution_count": 4,
     "metadata": {},
     "output_type": "execute_result"
    }
   ],
   "source": [
    "dataset.data"
   ]
  }
 ],
 "metadata": {
  "kernelspec": {
   "display_name": "Python 3 (ipykernel)",
   "language": "python",
   "name": "python3"
  }
 },
 "nbformat": 4,
 "nbformat_minor": 4
}
