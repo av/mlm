{
 "cells": [
  {
   "cell_type": "markdown",
   "metadata": {},
   "source": [
    "### Hyperparams"
   ]
  },
  {
   "cell_type": "code",
   "execution_count": 5,
   "metadata": {},
   "outputs": [],
   "source": [
    "import torch\n",
    "\n",
    "batch_size = 32\n",
    "block_size = 8\n",
    "max_iters = 3_000\n",
    "eval_interval = 300\n",
    "learning_rate = 1e-2\n",
    "eval_iters = 200\n",
    "train_split = 0.9\n",
    "device = 'cuda'\n",
    "\n",
    "n_embd = 32"
   ]
  },
  {
   "cell_type": "markdown",
   "metadata": {},
   "source": [
    "### Data"
   ]
  },
  {
   "cell_type": "code",
   "execution_count": 2,
   "metadata": {},
   "outputs": [],
   "source": [
    "with open ('/data/tinyshakespeare.txt', 'r', encoding='utf-8') as file:\n",
    "    text = file.read()\n",
    "\n",
    "chars = sorted(list(set(text)))\n",
    "vocab_size = len(chars)\n",
    "\n",
    "stoi = { ch:i for i,ch in enumerate(chars) }\n",
    "itos = { i:ch for i,ch in enumerate(chars) }\n",
    "\n",
    "encode = lambda s: [stoi[c] for c in s] # encoder: map string to char ids\n",
    "decode = lambda l: ''.join([itos[i] for i in l]) # decoder: map integer ids to a string\n",
    "\n",
    "data = torch.tensor(encode(text), dtype=torch.long)\n",
    "\n",
    "# Splitting the dataset into training and validation sets\n",
    "n = int(train_split * len(data)) # 90% training, 10% validation\n",
    "train_data, validation_data = data[:n], data[n:]\n",
    "\n",
    "def get_batch(split):\n",
    "  # batch of data of inputs x and targets y\n",
    "  data = train_data if split == 'train' else validation_data\n",
    "  # array(batch_size) of random offsets within data\n",
    "  ix = torch.randint(len(data) - block_size, (batch_size,))\n",
    "\n",
    "  # Context and target sequences\n",
    "  # ? Why a single sequence is not used?\n",
    "  x = torch.stack([data[i:i+block_size] for i in ix])\n",
    "  y = torch.stack([data[i+1:i+block_size+1] for i in ix])\n",
    "\n",
    "  x, y = x.to(device), y.to(device)\n",
    "\n",
    "  return x, y"
   ]
  },
  {
   "cell_type": "markdown",
   "metadata": {},
   "source": [
    "### Loss"
   ]
  },
  {
   "cell_type": "code",
   "execution_count": 3,
   "metadata": {},
   "outputs": [],
   "source": [
    "@torch.no_grad()\n",
    "def estimate_loss():\n",
    "  out = {}\n",
    "  model.eval()\n",
    "\n",
    "  for split in ['train', 'validation']:\n",
    "    losses = torch.zeros(eval_iters)\n",
    "    for k in range(eval_iters):\n",
    "      X, Y = get_batch(split)\n",
    "      logits, loss = model(X, Y)\n",
    "      losses[k] = loss.item()\n",
    "\n",
    "    out[split] = losses.mean()\n",
    "\n",
    "  model.train()\n",
    "  return out"
   ]
  },
  {
   "cell_type": "markdown",
   "metadata": {},
   "source": [
    "### Model"
   ]
  },
  {
   "cell_type": "code",
   "execution_count": 6,
   "metadata": {},
   "outputs": [
    {
     "name": "stderr",
     "output_type": "stream",
     "text": [
      "/usr/local/lib/python3.8/dist-packages/tqdm/auto.py:21: TqdmWarning: IProgress not found. Please update jupyter and ipywidgets. See https://ipywidgets.readthedocs.io/en/stable/user_install.html\n",
      "  from .autonotebook import tqdm as notebook_tqdm\n"
     ]
    }
   ],
   "source": [
    "import torch\n",
    "import torch.nn as nn\n",
    "from torch.nn import functional as F\n",
    "\n",
    "torch.manual_seed(42)\n",
    "\n",
    "class BigramLanguageModel(nn.Module):\n",
    "  def __init__(self):\n",
    "    super().__init__()\n",
    "\n",
    "    # Video says: each token directly reads off the logits for the next token\n",
    "    # from the lookup table.\n",
    "    self.token_embedding_table = nn.Embedding(vocab_size, n_embd)\n",
    "    self.position_embedding_table = nn.Embedding(block_size, n_embd)\n",
    "    self.lm_head = nn.Linear(n_embd, vocab_size)\n",
    "\n",
    "  def forward(self, idx, targets=None):\n",
    "    B, T = idx.shape\n",
    "\n",
    "    # idx and targets are (B, T) tensors of integers, Batch, Time\n",
    "    # Token embedding table will return shape of (Batch, Time, Channel)\n",
    "    # Batch - number of sequences\n",
    "    # Time - number of tokens in each sequence\n",
    "    # Channel - Embeddings vector for a token?\n",
    "    tok_emb = self.token_embedding_table(idx)\n",
    "    pos_emb = self.position_embedding_table(torch.arange(T, device=device))\n",
    "    x = tok_emb + pos_emb\n",
    "    logits = self.lm_head(x) # (B, T, vocab_size)\n",
    "\n",
    "    if targets is None:\n",
    "      return logits, None\n",
    "\n",
    "    B, T, C = logits.shape\n",
    "    logits = logits.view(B*T, C)\n",
    "    targets = targets.view(B*T)\n",
    "\n",
    "    # Cross entropy expects input to be in a 2D tensor of shape (Batch*Time, Channel)\n",
    "    loss = F.cross_entropy(logits, targets)\n",
    "\n",
    "    return logits, loss\n",
    "\n",
    "  def generate(self, idx, max_new_tokens):\n",
    "    # idx is a (Batch, Time) tensor of integers, representing current context\n",
    "    for _ in range(max_new_tokens):\n",
    "      # compute the predictions\n",
    "      logits, loss = self(idx) # (B, T, C)\n",
    "\n",
    "      # -1 makes very little sense for a bigram model,\n",
    "      # as we're essentially throwing away everything except the very last token in a batch\n",
    "      # to make our prediction.\n",
    "      # This is done in such a way only to allow for easier transition to an N-gram model later.\n",
    "      logits = logits[:, -1, :] # (B, C)\n",
    "\n",
    "      # Probabilities from logits\n",
    "      # Softmax ~ [1, 2, 3, 4]\n",
    "      probs = F.softmax(logits, dim=-1)\n",
    "      idx_next = torch.multinomial(probs, num_samples=1) # (B, 1)\n",
    "\n",
    "      # append to the currently running context\n",
    "      idx = torch.cat((idx, idx_next), dim=1) # (B, T + 1)\n",
    "    return idx\n",
    "\n",
    "model = BigramLanguageModel().to(device)\n",
    "optimizer = torch.optim.AdamW(model.parameters(), lr=learning_rate)"
   ]
  },
  {
   "cell_type": "markdown",
   "metadata": {},
   "source": [
    "### Train"
   ]
  },
  {
   "cell_type": "code",
   "execution_count": 7,
   "metadata": {},
   "outputs": [
    {
     "name": "stdout",
     "output_type": "stream",
     "text": [
      "Iter 0, Train loss: 4.362564563751221, Validation loss: 4.355724811553955\n",
      "Iter 300, Train loss: 2.531529188156128, Validation loss: 2.5499892234802246\n",
      "Iter 600, Train loss: 2.511695146560669, Validation loss: 2.54876446723938\n",
      "Iter 900, Train loss: 2.4908628463745117, Validation loss: 2.522688388824463\n",
      "Iter 1200, Train loss: 2.497490882873535, Validation loss: 2.510655164718628\n",
      "Iter 1500, Train loss: 2.4841389656066895, Validation loss: 2.51910138130188\n",
      "Iter 1800, Train loss: 2.473388671875, Validation loss: 2.5083813667297363\n",
      "Iter 2100, Train loss: 2.498110294342041, Validation loss: 2.514561414718628\n",
      "Iter 2400, Train loss: 2.486794948577881, Validation loss: 2.514545440673828\n",
      "Iter 2700, Train loss: 2.486311197280884, Validation loss: 2.513540029525757\n"
     ]
    }
   ],
   "source": [
    "for iter in range(max_iters):\n",
    "  if iter % eval_interval == 0:\n",
    "    losses = estimate_loss()\n",
    "    print(f'Iter {iter}, Train loss: {losses[\"train\"]}, Validation loss: {losses[\"validation\"]}')\n",
    "\n",
    "  # Sample batch of data\n",
    "  xb, yb = get_batch('train')\n",
    "\n",
    "  # Eval\n",
    "  logits, loss = model(xb, yb)\n",
    "  optimizer.zero_grad(set_to_none=True)\n",
    "  loss.backward()\n",
    "  optimizer.step()"
   ]
  },
  {
   "cell_type": "markdown",
   "metadata": {},
   "source": [
    "### Generate"
   ]
  },
  {
   "cell_type": "code",
   "execution_count": 8,
   "metadata": {},
   "outputs": [
    {
     "name": "stdout",
     "output_type": "stream",
     "text": [
      "\n",
      "I\n",
      "O: asafous ty t te othutomod tarnd he, preckn,\n",
      "OHenthif o--wishelapiwistrs we s, orean,\n",
      "TANGluprthand n,\n",
      "KI Miced tlat mango win thy\n",
      "bellaramean t.\n",
      "\n",
      "\n",
      "DUKithapr me machan fl haisthe iere--sthurore cense wn ck me, woass t avest t, metha'elm; hy?\n",
      "\n",
      "\n",
      "\n",
      "I he wlarBRGLONGofound s heve she, fthiran t anersamono be'sstore wend d ph, Rpefoue t he ososour talun I wibe g y stharinthed;\n",
      "Whee s mir bakns t\n",
      "Tou'esa amnfod bs as Y:\n",
      "K:\n",
      "BOf manase VO on my foristhatessotritorulerard haikn 'sealanks, g duthintide.\n"
     ]
    }
   ],
   "source": [
    "ctx = torch.zeros((1, 1), dtype=torch.long, device=device)\n",
    "batch = model.generate(ctx, max_new_tokens=500)\n",
    "logits = batch[0].tolist()\n",
    "\n",
    "print(decode(logits))"
   ]
  }
 ],
 "metadata": {
  "kernelspec": {
   "display_name": "Python 3 (ipykernel)",
   "language": "python",
   "name": "python3"
  },
  "language_info": {
   "codemirror_mode": {
    "name": "ipython",
    "version": 3
   },
   "file_extension": ".py",
   "mimetype": "text/x-python",
   "name": "python",
   "nbconvert_exporter": "python",
   "pygments_lexer": "ipython3",
   "version": "3.8.10"
  }
 },
 "nbformat": 4,
 "nbformat_minor": 2
}
