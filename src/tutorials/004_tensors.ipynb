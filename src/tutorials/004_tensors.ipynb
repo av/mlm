{
 "cells": [
  {
   "cell_type": "code",
   "execution_count": 6,
   "metadata": {},
   "outputs": [
    {
     "data": {
      "text/plain": [
       "tensor([[1, 2, 3],\n",
       "        [4, 5, 6]])"
      ]
     },
     "execution_count": 6,
     "metadata": {},
     "output_type": "execute_result"
    }
   ],
   "source": [
    "import torch\n",
    "\n",
    "\n",
    "tt = torch.tensor([\n",
    "  [1, 2],\n",
    "  [3, 4],\n",
    "  [5, 6],\n",
    "])\n",
    "\n",
    "# Shape returns dimensions of tensor\n",
    "A, B = tt.shape\n",
    "\n",
    "# View transposes the tensor according to the given dimensions\n",
    "tt.view(B, A)"
   ]
  },
  {
   "cell_type": "code",
   "execution_count": 7,
   "metadata": {},
   "outputs": [
    {
     "data": {
      "text/plain": [
       "tensor([[ 1,  2,  3,  4,  5,  6],\n",
       "        [ 7,  8,  9, 10, 11, 12]])"
      ]
     },
     "execution_count": 7,
     "metadata": {},
     "output_type": "execute_result"
    }
   ],
   "source": [
    "tt = torch.tensor([\n",
    "  [\n",
    "    [1, 2],\n",
    "    [3, 4],\n",
    "    [5, 6],\n",
    "  ],\n",
    "  [\n",
    "    [7, 8],\n",
    "    [9, 10],\n",
    "    [11, 12],\n",
    "  ],\n",
    "])\n",
    "\n",
    "A, B, C = tt.shape\n",
    "\n",
    "# View args must multiply to the same number as original dimensions\n",
    "assert(A * B * C == 2 * 3 * 2)\n",
    "\n",
    "# So far as that is true, original tensor can be reshaped\n",
    "# tt.view(3, 4)\n",
    "tt.view(2, 6)"
   ]
  },
  {
   "cell_type": "code",
   "execution_count": 4,
   "metadata": {},
   "outputs": [
    {
     "ename": "RuntimeError",
     "evalue": "shape '[4, 4, 4]' is invalid for input of size 12",
     "output_type": "error",
     "traceback": [
      "\u001b[0;31m---------------------------------------------------------------------------\u001b[0m",
      "\u001b[0;31mRuntimeError\u001b[0m                              Traceback (most recent call last)",
      "Cell \u001b[0;32mIn[4], line 20\u001b[0m\n\u001b[1;32m      3\u001b[0m t \u001b[38;5;241m=\u001b[39m torch\u001b[38;5;241m.\u001b[39mtensor([\n\u001b[1;32m      4\u001b[0m   [\n\u001b[1;32m      5\u001b[0m     [\u001b[38;5;241m1\u001b[39m, \u001b[38;5;241m2\u001b[39m],\n\u001b[0;32m   (...)\u001b[0m\n\u001b[1;32m     13\u001b[0m   ],\n\u001b[1;32m     14\u001b[0m ])\n\u001b[1;32m     16\u001b[0m \u001b[38;5;66;03m# This will reshape the tensor as well\u001b[39;00m\n\u001b[1;32m     17\u001b[0m \u001b[38;5;66;03m# : - keep as is\u001b[39;00m\n\u001b[1;32m     18\u001b[0m \u001b[38;5;66;03m# N - pick dimension N\u001b[39;00m\n\u001b[0;32m---> 20\u001b[0m \u001b[43mt\u001b[49m\u001b[38;5;241;43m.\u001b[39;49m\u001b[43mview\u001b[49m\u001b[43m(\u001b[49m\u001b[38;5;241;43m4\u001b[39;49m\u001b[43m,\u001b[49m\u001b[43m \u001b[49m\u001b[38;5;241;43m4\u001b[39;49m\u001b[43m,\u001b[49m\u001b[43m \u001b[49m\u001b[38;5;241;43m4\u001b[39;49m\u001b[43m)\u001b[49m\n\u001b[1;32m     21\u001b[0m \u001b[38;5;66;03m# t[:, -1, :]\u001b[39;00m\n\u001b[1;32m     22\u001b[0m \u001b[38;5;66;03m# t[:, :, :]\u001b[39;00m\n\u001b[1;32m     23\u001b[0m \u001b[38;5;66;03m# t[:, 2]\u001b[39;00m\n\u001b[0;32m   (...)\u001b[0m\n\u001b[1;32m     32\u001b[0m \u001b[38;5;66;03m# t[0, :, 1] == t[0][:, 1]\u001b[39;00m\n\u001b[1;32m     33\u001b[0m \u001b[38;5;66;03m# t[0] == t[0]\u001b[39;00m\n",
      "\u001b[0;31mRuntimeError\u001b[0m: shape '[4, 4, 4]' is invalid for input of size 12"
     ]
    }
   ],
   "source": [
    "import torch\n",
    "\n",
    "t = torch.tensor([\n",
    "  [\n",
    "    [1, 2],\n",
    "    [3, 4],\n",
    "    [5, 6],\n",
    "  ],\n",
    "  [\n",
    "    [7, 8],\n",
    "    [9, 10],\n",
    "    [11, 12],\n",
    "  ],\n",
    "])\n",
    "\n",
    "# This will reshape the tensor as well\n",
    "# : - keep as is\n",
    "# N - pick dimension N\n",
    "t[:, -1, :]\n",
    "t[:, :, :]\n",
    "t[:, 2]\n",
    "\n",
    "t[1]\n",
    "t[1, 1]\n",
    "t[1, 1, 1]\n",
    "t[0, 0, 0]\n",
    "\n",
    "# Comparing tensort\n",
    "# yields comparison of underlying data\n",
    "t[0, :, 1] == t[0][:, 1]\n",
    "t[0] == t[0]"
   ]
  },
  {
   "cell_type": "code",
   "execution_count": 5,
   "metadata": {},
   "outputs": [
    {
     "name": "stdout",
     "output_type": "stream",
     "text": [
      "Logits:\n",
      "tensor([1., 2., 3., 1., 2., 4.])\n",
      "Weights:\n",
      "[0.0286441370844841, 0.07786283642053604, 0.21165314316749573, 0.0286441370844841, 0.07786283642053604, 0.5753328800201416]\n",
      "Sum:\n",
      "0.9999999701976776\n",
      "---\n"
     ]
    }
   ],
   "source": [
    "import torch\n",
    "from torch.nn import functional as F\n",
    "\n",
    "t = torch.tensor([1, 2, 3, 1, 2, 4], dtype=torch.float32)\n",
    "\n",
    "# Softmax normalizes the tensor between 0..1\n",
    "# and makes sure that sum of all elements is 1\n",
    "w = F.softmax(t, dim=0).tolist()\n",
    "\n",
    "print(f'Logits:\\n{t}')\n",
    "print(f'Weights:\\n{w}')\n",
    "print(f'Sum:\\n{sum(w)}')\n",
    "print('---')"
   ]
  }
 ],
 "metadata": {
  "kernelspec": {
   "display_name": "Python 3 (ipykernel)",
   "language": "python",
   "name": "python3"
  },
  "language_info": {
   "codemirror_mode": {
    "name": "ipython",
    "version": 3
   },
   "file_extension": ".py",
   "mimetype": "text/x-python",
   "name": "python",
   "nbconvert_exporter": "python",
   "pygments_lexer": "ipython3",
   "version": "3.8.10"
  }
 },
 "nbformat": 4,
 "nbformat_minor": 2
}
