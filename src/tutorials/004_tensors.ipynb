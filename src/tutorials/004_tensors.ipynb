{
 "cells": [
  {
   "cell_type": "code",
   "execution_count": 1,
   "metadata": {},
   "outputs": [
    {
     "data": {
      "text/plain": [
       "tensor([[1, 2, 3],\n",
       "        [4, 5, 6]])"
      ]
     },
     "execution_count": 1,
     "metadata": {},
     "output_type": "execute_result"
    }
   ],
   "source": [
    "import torch\n",
    "\n",
    "\n",
    "tt = torch.tensor([\n",
    "  [1, 2],\n",
    "  [3, 4],\n",
    "  [5, 6],\n",
    "])\n",
    "\n",
    "# Shape returns dimensions of tensor\n",
    "A, B = tt.shape\n",
    "\n",
    "# View transposes the tensor according to the given dimensions\n",
    "tt.view(B, A)"
   ]
  },
  {
   "cell_type": "code",
   "execution_count": 2,
   "metadata": {},
   "outputs": [
    {
     "data": {
      "text/plain": [
       "tensor([[ 1,  2,  3,  4,  5,  6],\n",
       "        [ 7,  8,  9, 10, 11, 12]])"
      ]
     },
     "execution_count": 2,
     "metadata": {},
     "output_type": "execute_result"
    }
   ],
   "source": [
    "tt = torch.tensor([\n",
    "  [\n",
    "    [1, 2],\n",
    "    [3, 4],\n",
    "    [5, 6],\n",
    "  ],\n",
    "  [\n",
    "    [7, 8],\n",
    "    [9, 10],\n",
    "    [11, 12],\n",
    "  ],\n",
    "])\n",
    "\n",
    "A, B, C = tt.shape\n",
    "\n",
    "# View args must multiply to the same number as original dimensions\n",
    "assert(A * B * C == 2 * 3 * 2)\n",
    "\n",
    "# So far as that is true, original tensor can be reshaped\n",
    "tt.view(3, 4)\n",
    "tt.view(2, 6)"
   ]
  },
  {
   "cell_type": "code",
   "execution_count": 36,
   "metadata": {},
   "outputs": [
    {
     "data": {
      "text/plain": [
       "tensor([[True, True],\n",
       "        [True, True],\n",
       "        [True, True]])"
      ]
     },
     "execution_count": 36,
     "metadata": {},
     "output_type": "execute_result"
    }
   ],
   "source": [
    "import torch\n",
    "\n",
    "t = torch.tensor([\n",
    "  [\n",
    "    [1, 2],\n",
    "    [3, 4],\n",
    "    [5, 6],\n",
    "  ],\n",
    "  [\n",
    "    [7, 8],\n",
    "    [9, 10],\n",
    "    [11, 12],\n",
    "  ],\n",
    "])\n",
    "\n",
    "# This will reshape the tensor as well\n",
    "# : - keep as is\n",
    "# N - pick dimension N\n",
    "t[:, -1, :]\n",
    "t[:, :, :]\n",
    "t[:, 2]\n",
    "\n",
    "t[1]\n",
    "t[1, 1]\n",
    "t[1, 1, 1]\n",
    "t[0, 0, 0]\n",
    "\n",
    "# Comparing tensort\n",
    "# yields comparison of underlying data\n",
    "t[0, :, 1] == t[0][:, 1]\n",
    "t[0] == t[0]"
   ]
  },
  {
   "cell_type": "code",
   "execution_count": 62,
   "metadata": {},
   "outputs": [
    {
     "name": "stdout",
     "output_type": "stream",
     "text": [
      "Logits:\n",
      "tensor([1., 2., 3., 1., 2., 4.])\n",
      "Weights:\n",
      "[0.0286441370844841, 0.07786283642053604, 0.21165314316749573, 0.0286441370844841, 0.07786283642053604, 0.5753328800201416]\n",
      "Sum:\n",
      "0.9999999701976776\n",
      "---\n"
     ]
    }
   ],
   "source": [
    "import torch\n",
    "from torch.nn import functional as F\n",
    "\n",
    "t = torch.tensor([1, 2, 3, 1, 2, 4], dtype=torch.float32)\n",
    "\n",
    "# Softmax normalizes the tensor between 0..1\n",
    "# and makes sure that sum of all elements is 1\n",
    "w = F.softmax(t, dim=0).tolist()\n",
    "\n",
    "print(f'Logits:\\n{t}')\n",
    "print(f'Weights:\\n{w}')\n",
    "print(f'Sum:\\n{sum(w)}')\n",
    "print('---')"
   ]
  }
 ],
 "metadata": {
  "kernelspec": {
   "display_name": "Python 3 (ipykernel)",
   "language": "python",
   "name": "python3"
  },
  "language_info": {
   "codemirror_mode": {
    "name": "ipython",
    "version": 3
   },
   "file_extension": ".py",
   "mimetype": "text/x-python",
   "name": "python",
   "nbconvert_exporter": "python",
   "pygments_lexer": "ipython3",
   "version": "3.8.10"
  }
 },
 "nbformat": 4,
 "nbformat_minor": 2
}
