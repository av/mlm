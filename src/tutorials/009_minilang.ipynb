{
 "cells": [
  {
   "cell_type": "markdown",
   "metadata": {},
   "source": [
    "### Minilang\n",
    "\n",
    "Mini is an artificial language with a vocabulary of 1000 words that still \n",
    "manages to be fully functional. It has a simple grammar that is easy to\n",
    "learn and use.\n",
    "\n",
    "https://minilanguage.com/\n",
    "\n",
    "### Mini Vocabulary\n",
    "\n",
    "https://minilanguage.com/name-seri.txt"
   ]
  },
  {
   "cell_type": "code",
   "execution_count": null,
   "metadata": {},
   "outputs": [],
   "source": []
  }
 ],
 "metadata": {
  "language_info": {
   "name": "python"
  }
 },
 "nbformat": 4,
 "nbformat_minor": 2
}
