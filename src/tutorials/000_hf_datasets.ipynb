{
 "cells": [
  {
   "cell_type": "code",
   "execution_count": 11,
   "metadata": {},
   "outputs": [
    {
     "name": "stdout",
     "output_type": "stream",
     "text": [
      "Sat May 11 07:59:54 2024       \n",
      "+-----------------------------------------------------------------------------------------+\n",
      "| NVIDIA-SMI 550.67                 Driver Version: 550.67         CUDA Version: 12.4     |\n",
      "|-----------------------------------------+------------------------+----------------------+\n",
      "| GPU  Name                 Persistence-M | Bus-Id          Disp.A | Volatile Uncorr. ECC |\n",
      "| Fan  Temp   Perf          Pwr:Usage/Cap |           Memory-Usage | GPU-Util  Compute M. |\n",
      "|                                         |                        |               MIG M. |\n",
      "|=========================================+========================+======================|\n",
      "|   0  NVIDIA GeForce RTX 4090 ...    Off |   00000000:01:00.0 Off |                  N/A |\n",
      "| N/A   50C    P8              2W /  150W |      10MiB /  16376MiB |      0%      Default |\n",
      "|                                         |                        |                  N/A |\n",
      "+-----------------------------------------+------------------------+----------------------+\n",
      "                                                                                         \n",
      "+-----------------------------------------------------------------------------------------+\n",
      "| Processes:                                                                              |\n",
      "|  GPU   GI   CI        PID   Type   Process name                              GPU Memory |\n",
      "|        ID   ID                                                               Usage      |\n",
      "|=========================================================================================|\n",
      "+-----------------------------------------------------------------------------------------+\n"
     ]
    }
   ],
   "source": [
    "!nvidia-smi"
   ]
  },
  {
   "cell_type": "markdown",
   "metadata": {},
   "source": [
    "## datasets\n",
    "\n",
    "A `Dataset` object is a wrapper of an `Arrow` table, which allows fast zero-copy reads from arrays in the dataset to PyTorch tensors."
   ]
  },
  {
   "cell_type": "code",
   "execution_count": 17,
   "metadata": {},
   "outputs": [],
   "source": [
    "from datasets import Dataset\n",
    "\n",
    "data = [[1, 2], [3, 4]]\n",
    "\n",
    "ds = Dataset.from_dict({ \"data\": data })"
   ]
  },
  {
   "cell_type": "markdown",
   "metadata": {},
   "source": [
    "Loading a `Dataset` to the CUDA device"
   ]
  },
  {
   "cell_type": "code",
   "execution_count": 18,
   "metadata": {},
   "outputs": [
    {
     "name": "stdout",
     "output_type": "stream",
     "text": [
      "CUDA is available\n"
     ]
    },
    {
     "data": {
      "text/plain": [
       "{'data': [1, 2]}"
      ]
     },
     "execution_count": 18,
     "metadata": {},
     "output_type": "execute_result"
    }
   ],
   "source": [
    "import torch\n",
    "\n",
    "has_cuda = torch.cuda.is_available()\n",
    "\n",
    "if has_cuda:\n",
    "  print(\"CUDA is available\")\n",
    "else:\n",
    "  print(\"CUDA is not available\")\n",
    "\n",
    "device = torch.device(\"cuda\" if has_cuda else \"cpu\")\n",
    "torch_ds = ds.with_format(\"torch\", device=device)\n",
    "\n",
    "ds[0]"
   ]
  },
  {
   "cell_type": "markdown",
   "metadata": {},
   "source": [
    "### Data loading\n",
    "\n",
    "Like torch.utils.data.Dataset objects, a Dataset can be passed directly to a PyTorch DataLoader:\n",
    "\n",
    "https://huggingface.co/docs/datasets/en/use_with_pytorch#data-loading"
   ]
  },
  {
   "cell_type": "code",
   "execution_count": 19,
   "metadata": {},
   "outputs": [
    {
     "name": "stdout",
     "output_type": "stream",
     "text": [
      "{'data': tensor([0.3826, 0.7325, 0.6480, 0.7994]), 'label': tensor([1, 1, 0, 1])}\n",
      "{'data': tensor([0.1497, 0.1252, 0.4785, 0.6125]), 'label': tensor([0, 1, 0, 0])}\n",
      "{'data': tensor([0.9730, 0.2870, 0.8643, 0.6671]), 'label': tensor([1, 1, 1, 0])}\n",
      "{'data': tensor([0.3033, 0.2434, 0.3117, 0.9448]), 'label': tensor([1, 0, 1, 1])}\n"
     ]
    }
   ],
   "source": [
    "import numpy as np\n",
    "from datasets import Dataset\n",
    "from torch.utils.data import DataLoader\n",
    "\n",
    "data = np.random.rand(16)\n",
    "label = np.random.randint(0, 2, size=16)\n",
    "\n",
    "ds = Dataset.from_dict({\"data\": data, \"label\": label}).with_format(\"torch\")\n",
    "dataloader = DataLoader(ds, batch_size=4)\n",
    "\n",
    "for batch in dataloader:\n",
    "    print(batch)"
   ]
  },
  {
   "cell_type": "markdown",
   "metadata": {},
   "source": [
    "### Load text data\n",
    "\n",
    "Text files are one of the most common file types for storing a dataset. By default, 🤗 Datasets samples a text file line by line to build the dataset.\n",
    "\n",
    "https://huggingface.co/docs/datasets/en/nlp_load"
   ]
  },
  {
   "cell_type": "code",
   "execution_count": 10,
   "metadata": {},
   "outputs": [
    {
     "name": "stderr",
     "output_type": "stream",
     "text": [
      "Downloading data files: 100%|██████████| 2/2 [00:00<00:00, 9457.28it/s]\n",
      "Extracting data files: 100%|██████████| 2/2 [00:00<00:00, 2200.58it/s]\n",
      "Generating train split: 10 examples [00:00, 7688.92 examples/s]\n",
      "Generating test split: 10 examples [00:00, 9504.43 examples/s]\n"
     ]
    }
   ],
   "source": [
    "from datasets import load_dataset\n",
    "\n",
    "dataset = load_dataset(\"text\", data_files={\n",
    "  \"train\": [\"/data/000_sample_data.txt\"],\n",
    "  \"test\": [\"/data/000_sample_data.txt\"]\n",
    "})"
   ]
  }
 ],
 "metadata": {
  "kernelspec": {
   "display_name": "Python 3 (ipykernel)",
   "language": "python",
   "name": "python3"
  }
 },
 "nbformat": 4,
 "nbformat_minor": 2
}
