{
 "cells": [
  {
   "cell_type": "markdown",
   "metadata": {},
   "source": [
    "### Transformer Together\n",
    "\n",
    "👋 Thanks for agreeing to join our wierd tutorial-o-thon. Here're the things that you want to know:\n",
    "\n",
    "#### Participants\n",
    "\n",
    "- @av\n",
    "- @stradivar\n",
    "- @RomanSavarin\n",
    "- @wpierwolacraft\n",
    "- @StanislavRassolenko\n",
    "\n",
    "#### Goal\n",
    "\n",
    "- Go through as large chunk of [Karpathy's NanoGPT tutorial](https://www.youtube.com/watch?v=kCc8FmEb1nY&ab_channel=AndrejKarpathy) as we can\n",
    "- Understand all the relevants bits and pieces along the way the best we can\n",
    "- Nerd out\n",
    "- Enjoy the beautiful awrkwardness of trying to code something together with a few random dudes\n",
    "\n",
    "We'll likely won't complete the tutorial, but we'll try to tackle as much as possible\n",
    "\n",
    "\n",
    "#### Logistics\n",
    "\n",
    "- Arrive around 12am, May 26th, the address was sent to you privately\n",
    "- @av will order pizza and provide snacks/drinks, but feel free to bring your own\n",
    "- Have your laptop with you, maybe a charger, Internet will be available via WiFi\n",
    "- You'll need a Jupyter-notebook compatible environment, preferrably with a GPU support\n",
    "  - If you know what you're doing - skip this section, \n",
    "  - Otherwise, an easy option is to use [Google Colab](https://colab.research.google.com/)\n",
    "    - You don't need anything other than Browser and Google Account to start\n",
    "\n",
    "##### Google Colab setup\n",
    "\n",
    "Colab allows you to clone arbitrary Notebooks from the GitHub, such as this one 🎉."
   ]
  },
  {
   "cell_type": "code",
   "execution_count": null,
   "metadata": {},
   "outputs": [],
   "source": []
  }
 ],
 "metadata": {
  "language_info": {
   "name": "python"
  }
 },
 "nbformat": 4,
 "nbformat_minor": 2
}
