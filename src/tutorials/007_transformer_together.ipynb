{
 "cells": [
  {
   "cell_type": "markdown",
   "metadata": {},
   "source": [
    "### Transformer Together\n",
    "\n",
    "👋 Thanks for agreeing to join our wierd tutorial-o-thon. Here're the things that you want to know:\n",
    "\n",
    "#### Participants\n",
    "\n",
    "- @av\n",
    "- @stradivar\n",
    "- @RomanSavarin\n",
    "- @wpierwolacraft\n",
    "- @StanislavRassolenko\n",
    "\n",
    "#### Goal\n",
    "\n",
    "- Go through as large chunk of [Karpathy's NanoGPT tutorial](https://www.youtube.com/watch?v=kCc8FmEb1nY&ab_channel=AndrejKarpathy) as we can\n",
    "- Understand all the relevants bits and pieces along the way the best we can\n",
    "- Enjoy the beautiful awrkwardness of trying to code something together with a few random dudes\n",
    "- Nerd out\n",
    "\n",
    "We'll likely won't complete the tutorial, but we'll try to tackle as much as possible. \n",
    "For final reference, here's a [Completed Tutorial Notebook](https://github.com/av/mlm/blob/main/src/tutorials/006_bigram_v4_transformer.ipynb)\n",
    "\n",
    "#### Logistics\n",
    "\n",
    "- Arrive around 12am, May 26th, the address was sent to you privately\n",
    "- @av will order pizza and provide snacks/drinks, but feel free to bring your own\n",
    "- Have your laptop with you, maybe a charger, Internet will be available via WiFi\n",
    "\n",
    "#### How to prepare?\n",
    "\n",
    "- You'll need a Jupyter-notebook compatible environment, preferrably with a GPU support\n",
    "  - If you know what you're doing - skip this section\n",
    "  - Otherwise, you don't need anything special! A _very easy_ option is to use [Google Colab](https://colab.research.google.com/) (Google Colaboratory)\n",
    "    - You'll only need a Browser and Google Account to start\n",
    "    - See setup guide below\n",
    "- You don't need any deep special knowledge of Python, the only requirement is to be able to read and understand the code like this:<br/>\n",
    "  ```python\n",
    "  from module import function\n",
    "\n",
    "  def add(a, b):\n",
    "      return a + b\n",
    "\n",
    "  print(add(1, 2))\n",
    "\n",
    "  class MyClass:\n",
    "      def __init__(self, a):\n",
    "          self.a = a\n",
    "\n",
    "      def add(self, b):\n",
    "          return self.a + b\n",
    "  ```\n",
    "\n",
    "- In terms of actual knowledge, the more you know the more boring the session will be, so _don't worry too much_\n",
    "  - If you can imagine how a 768-dimensional vector looks like, or how multiplying two matrices could mean a relationship between two words in a text - you're just there for foods and company 😃\n",
    "- If you want to keep it boring, here're a few cool things as a refresher\n",
    "  - [📽️ Linear Algebra](https://www.3blue1brown.com/topics/linear-algebra) (you're interested in Vectors, Matrices, Dot Product, mainly)\n",
    "  - [📽️ Neural Networks and Deep Learning](https://www.3blue1brown.com/topics/neural-networks)\n",
    "  - [📽️ Watching a Neural Network learn](https://www.youtube.com/watch?v=TkwXa7Cvfr8&ab_channel=EmergentGarden)\n",
    "  - [📜/👁️ Immersive Linear Algebra](https://immersivemath.com/ila/tableofcontents.html?)\n",
    "  - [📜/👁️ A visual intro to machine learning](http://www.r2d3.us/visual-intro-to-machine-learning-part-1/)\n",
    "  - [📜 Neural Networks and Deep Learning](http://neuralnetworksanddeeplearning.com/)\n",
    "  - [StatQuest on Transformers](https://www.youtube.com/watch?v=zxQyTK8quyY&ab_channel=StatQuestwithJoshStarmer)\n",
    "\n",
    "##### Google Colab setup\n",
    "\n",
    "Colab allows you to clone arbitrary Notebooks from the GitHub, such as this one 🎉.\n",
    "Here's a URL of this Notebook to import it into Colab:\n",
    "\n",
    "```\n",
    "https://github.com/av/mlm/blob/main/src/tutorials/007_transformer_together.ipynb\n",
    "```\n",
    "\n",
    "Once imported, you're good to go! 🚀\n",
    "\n",
    "When we'll get to actual training, you might want to switch to a GPU-enabled runtime. To do so, go to `Runtime` -> `Change runtime type` and select `GPU` from the dropdown. The runtime will have limited time, but we'll figure it out when we get there."
   ]
  },
  {
   "cell_type": "markdown",
   "metadata": {},
   "source": [
    "### Hello, Colab"
   ]
  },
  {
   "cell_type": "code",
   "execution_count": 1,
   "metadata": {},
   "outputs": [
    {
     "name": "stdout",
     "output_type": "stream",
     "text": [
      "Hello, Colab!\n"
     ]
    }
   ],
   "source": [
    "# While your cursor inside,\n",
    "# run code cells with Ctrl/Cmd + Enter\n",
    "print('Hello, Colab!')"
   ]
  },
  {
   "cell_type": "code",
   "execution_count": 3,
   "metadata": {},
   "outputs": [
    {
     "data": {
      "text/plain": [
       "True"
      ]
     },
     "execution_count": 3,
     "metadata": {},
     "output_type": "execute_result"
    }
   ],
   "source": [
    "# torch should be available by default\n",
    "# in Colab's notebook runtime\n",
    "import torch\n",
    "\n",
    "# Should be False in default Colab Runtime,\n",
    "# True when used with GPU\n",
    "torch.cuda.is_available()"
   ]
  },
  {
   "cell_type": "markdown",
   "metadata": {},
   "source": [
    "### Get the data"
   ]
  },
  {
   "cell_type": "code",
   "execution_count": null,
   "metadata": {},
   "outputs": [],
   "source": [
    "# This code will download our sample dataset to be used by the notebook\n",
    "import requests\n",
    "\n",
    "# Shakespeare's works dataset\n",
    "dataset = \"https://raw.githubusercontent.com/karpathy/char-rnn/master/data/tinyshakespeare/input.txt\"\n",
    "\n",
    "# News headlines dataset\n",
    "# dataset = \"\"\n",
    "\n",
    "def download_dataset(url):\n",
    "\tresponse = requests.get(url)\n",
    "\n",
    "\tif response.status_code == 200:\n",
    "\t\twith open(\"dataset.txt\", \"wb\") as file:\n",
    "\t\t\tfile.write(response.content)\n",
    "\t\t\tprint(\"File downloaded successfully.\")\n",
    "\telse:\n",
    "\t\tprint(\"Failed to download the file.\")\n",
    "\n",
    "download_dataset(dataset)"
   ]
  },
  {
   "cell_type": "code",
   "execution_count": 4,
   "metadata": {},
   "outputs": [],
   "source": [
    "with open ('/data/news.txt', 'r', encoding='utf-8') as file:\n",
    "    text = file.read()"
   ]
  },
  {
   "cell_type": "code",
   "execution_count": 5,
   "metadata": {},
   "outputs": [
    {
     "name": "stdout",
     "output_type": "stream",
     "text": [
      "Characters:  9271346\n"
     ]
    }
   ],
   "source": [
    "print(\"Characters: \", len(text))"
   ]
  },
  {
   "cell_type": "code",
   "execution_count": 6,
   "metadata": {},
   "outputs": [
    {
     "name": "stdout",
     "output_type": "stream",
     "text": [
      "Royal Mail pauses fake stamp fines on claims of faulty technology\n",
      "Indigenous leader Olivia Bisa Tirk\n"
     ]
    }
   ],
   "source": [
    "print(text[:100])"
   ]
  },
  {
   "cell_type": "markdown",
   "metadata": {},
   "source": [
    "### Code away!"
   ]
  },
  {
   "cell_type": "code",
   "execution_count": 15,
   "metadata": {},
   "outputs": [
    {
     "name": "stdout",
     "output_type": "stream",
     "text": [
      "Vocab:\n",
      "\n",
      " !\"#$%&'()*+,-./0123456789:;<=>?@ABCDEFGHIJKLMNOPQRSTUVWXYZ[\\]_`abcdefghijklmnopqrstuvwxyz|~ ¡¢£¤¥©«¬­®°±²³´µ·¹º»½ÁÂÃÄÅÇÉÎÑÓÖ×ØÚÛÜßàáâãäåæçèéêëíîïðñòóôöøùúüýĀāăąĆćČčĐđēėęěğħİıŁłńŌōőřŚśŞşŠšŢūżžșțʻ́̈αμАРСавгдезийклмнопрстуфхцшыяءأإئابةتجخدرزسشصطعغفقكلمنهويầệờ ​‏‐‑–—‘’‚“”„•․… ″₂₩€₴₵₹₽№℠™ⅡⅢ↑→↓−▼「」上与专业于产亮亿企作信優元內全利勢升半协卡合商四团團型增家年广底度微快成或战房持授智最月有权板業構模橋汽洋浙潤物现用界略眼签築級编署腾至获营行表規評议讯贺辑远遠银销長集雙面额高️﻿！，：｜￦￼\n",
      "Vocab size: 396\n"
     ]
    }
   ],
   "source": [
    "chars = sorted(list(set(text)))\n",
    "vocab_size = len(chars)\n",
    "\n",
    "print('Vocab:')\n",
    "print(''.join(chars))\n",
    "print('Vocab size:', vocab_size)"
   ]
  },
  {
   "cell_type": "code",
   "execution_count": 20,
   "metadata": {},
   "outputs": [
    {
     "name": "stdout",
     "output_type": "stream",
     "text": [
      "[72, 69, 76, 76, 79, 87]\n",
      "hellow\n"
     ]
    }
   ],
   "source": [
    "stoi = { ch: i for i, ch in enumerate(chars) }\n",
    "itos = { i: ch for i, ch in enumerate(chars) }\n",
    "\n",
    "encode = lambda s: [stoi[c] for c in s]\n",
    "decode = lambda x: ''.join([itos[i] for i in x])\n",
    "\n",
    "print(encode('hellow'))\n",
    "print(decode(encode('hellow')))"
   ]
  },
  {
   "cell_type": "code",
   "execution_count": 26,
   "metadata": {},
   "outputs": [
    {
     "name": "stdout",
     "output_type": "stream",
     "text": [
      "torch.Size([9271346]) torch.int64\n",
      "tensor([51, 79, 89, 65, 76,  1, 46, 65, 73, 76,  1, 80, 65, 85, 83, 69, 83,  1,\n",
      "        70, 65, 75, 69,  1, 83, 84, 65, 77, 80,  1, 70, 73, 78, 69, 83,  1, 79,\n",
      "        78,  1, 67, 76, 65, 73, 77, 83,  1, 79, 70,  1, 70, 65, 85, 76, 84, 89,\n",
      "         1, 84, 69, 67, 72, 78, 79, 76, 79, 71, 89,  0, 42, 78, 68, 73, 71, 69,\n",
      "        78, 79, 85, 83,  1, 76, 69, 65, 68, 69, 82,  1, 48, 76, 73, 86, 73, 65,\n",
      "         1, 35, 73, 83, 65,  1, 53, 73, 82, 75])\n"
     ]
    }
   ],
   "source": [
    "import torch\n",
    "\n",
    "data = torch.tensor(encode(text), dtype=torch.long)\n",
    "\n",
    "print(data.shape, data.dtype)\n",
    "print(data[:100])"
   ]
  },
  {
   "cell_type": "code",
   "execution_count": 27,
   "metadata": {},
   "outputs": [],
   "source": [
    "n = int(0.9 * len(data))\n",
    "\n",
    "train_data = data[:n]\n",
    "val_data = data[n:]"
   ]
  },
  {
   "cell_type": "code",
   "execution_count": 28,
   "metadata": {},
   "outputs": [
    {
     "data": {
      "text/plain": [
       "tensor([51, 79, 89, 65, 76,  1, 46, 65, 73])"
      ]
     },
     "execution_count": 28,
     "metadata": {},
     "output_type": "execute_result"
    }
   ],
   "source": [
    "block_size = 8\n",
    "\n",
    "train_data[:block_size+1]"
   ]
  },
  {
   "cell_type": "code",
   "execution_count": 29,
   "metadata": {},
   "outputs": [
    {
     "name": "stdout",
     "output_type": "stream",
     "text": [
      "tensor([51]) -> 79\n",
      "tensor([51, 79]) -> 89\n",
      "tensor([51, 79, 89]) -> 65\n",
      "tensor([51, 79, 89, 65]) -> 76\n",
      "tensor([51, 79, 89, 65, 76]) -> 1\n",
      "tensor([51, 79, 89, 65, 76,  1]) -> 46\n",
      "tensor([51, 79, 89, 65, 76,  1, 46]) -> 65\n",
      "tensor([51, 79, 89, 65, 76,  1, 46, 65]) -> 73\n"
     ]
    }
   ],
   "source": [
    "x = train_data[:block_size]\n",
    "y = train_data[1:block_size+1]\n",
    "\n",
    "for t in range(block_size):\n",
    "    context = x[:t+1]\n",
    "    target = y[t]\n",
    "    print(f\"{context} -> {target}\")"
   ]
  },
  {
   "cell_type": "code",
   "execution_count": 30,
   "metadata": {},
   "outputs": [
    {
     "name": "stdout",
     "output_type": "stream",
     "text": [
      "inputs:\n",
      "torch.Size([4, 8])\n",
      "tensor([[79, 78,  1, 73, 78,  1, 46, 65],\n",
      "        [ 1, 38, 76, 69, 67, 84, 82, 79],\n",
      "        [53, 82, 65, 78, 83, 73, 84, 73],\n",
      "        [ 1, 84, 79,  1, 70, 79, 82, 77]])\n",
      "\n",
      "targets:\n",
      "torch.Size([4, 8])\n",
      "tensor([[78,  1, 73, 78,  1, 46, 65, 82],\n",
      "        [38, 76, 69, 67, 84, 82, 79, 78],\n",
      "        [82, 65, 78, 83, 73, 84, 73, 79],\n",
      "        [84, 79,  1, 70, 79, 82, 77, 65]])\n",
      "---\n",
      "context: tensor([79]), target: 78\n",
      "context: tensor([79, 78]), target: 1\n",
      "context: tensor([79, 78,  1]), target: 73\n",
      "context: tensor([79, 78,  1, 73]), target: 78\n",
      "context: tensor([79, 78,  1, 73, 78]), target: 1\n",
      "context: tensor([79, 78,  1, 73, 78,  1]), target: 46\n",
      "context: tensor([79, 78,  1, 73, 78,  1, 46]), target: 65\n",
      "context: tensor([79, 78,  1, 73, 78,  1, 46, 65]), target: 82\n",
      "context: tensor([1]), target: 38\n",
      "context: tensor([ 1, 38]), target: 76\n",
      "context: tensor([ 1, 38, 76]), target: 69\n",
      "context: tensor([ 1, 38, 76, 69]), target: 67\n",
      "context: tensor([ 1, 38, 76, 69, 67]), target: 84\n",
      "context: tensor([ 1, 38, 76, 69, 67, 84]), target: 82\n",
      "context: tensor([ 1, 38, 76, 69, 67, 84, 82]), target: 79\n",
      "context: tensor([ 1, 38, 76, 69, 67, 84, 82, 79]), target: 78\n",
      "context: tensor([53]), target: 82\n",
      "context: tensor([53, 82]), target: 65\n",
      "context: tensor([53, 82, 65]), target: 78\n",
      "context: tensor([53, 82, 65, 78]), target: 83\n",
      "context: tensor([53, 82, 65, 78, 83]), target: 73\n",
      "context: tensor([53, 82, 65, 78, 83, 73]), target: 84\n",
      "context: tensor([53, 82, 65, 78, 83, 73, 84]), target: 73\n",
      "context: tensor([53, 82, 65, 78, 83, 73, 84, 73]), target: 79\n",
      "context: tensor([1]), target: 84\n",
      "context: tensor([ 1, 84]), target: 79\n",
      "context: tensor([ 1, 84, 79]), target: 1\n",
      "context: tensor([ 1, 84, 79,  1]), target: 70\n",
      "context: tensor([ 1, 84, 79,  1, 70]), target: 79\n",
      "context: tensor([ 1, 84, 79,  1, 70, 79]), target: 82\n",
      "context: tensor([ 1, 84, 79,  1, 70, 79, 82]), target: 77\n",
      "context: tensor([ 1, 84, 79,  1, 70, 79, 82, 77]), target: 65\n"
     ]
    }
   ],
   "source": [
    "# Batching/chunking the dataset for feeding it to the GPU\n",
    "torch.manual_seed(42)\n",
    "\n",
    "batch_size = 4 # independent sequences to be processed in parallel\n",
    "block_size = 8 # maximum context length within each sequence\n",
    "\n",
    "def get_batch(split):\n",
    "  # batch of data of inputs x and targets y\n",
    "  data = train_data if split == 'train' else validation_data\n",
    "  # array(batch_size) of random offsets within data\n",
    "  ix = torch.randint(len(data) - block_size, (batch_size,))\n",
    "\n",
    "  # Context and target sequences\n",
    "  # ? Why a single sequence is not used?\n",
    "  x = torch.stack([data[i:i+block_size] for i in ix])\n",
    "  y = torch.stack([data[i+1:i+block_size+1] for i in ix])\n",
    "\n",
    "  return x, y\n",
    "\n",
    "xb, yb = get_batch('train')\n",
    "print('inputs:')\n",
    "print(xb.shape)\n",
    "print(xb)\n",
    "\n",
    "print('\\ntargets:')\n",
    "print(yb.shape)\n",
    "print(yb)\n",
    "\n",
    "print('---')\n",
    "\n",
    "for b in range(batch_size):\n",
    "  for t in range(block_size):\n",
    "    context = xb[b, :t+1]\n",
    "    target = yb[b, t]\n",
    "\n",
    "    print(f\"context: {context}, target: {target}\")\n"
   ]
  },
  {
   "cell_type": "code",
   "execution_count": 50,
   "metadata": {},
   "outputs": [
    {
     "name": "stdout",
     "output_type": "stream",
     "text": [
      "tensor(6.5770, grad_fn=<NllLossBackward0>)\n"
     ]
    }
   ],
   "source": [
    "import torch\n",
    "import torch.nn as nn\n",
    "from torch.nn import functional as F\n",
    "\n",
    "torch.manual_seed(42)\n",
    "\n",
    "class BigramLanguageModel(nn.Module):\n",
    "  def __init__(self, vocab_size):\n",
    "    super().__init__()\n",
    "    self.token_embedding_table = nn.Embedding(vocab_size, vocab_size)\n",
    "\n",
    "  def forward(self, inputs, predictions=None):\n",
    "    # idx -> raw input numbers, encoded from the input text\n",
    "    # targets -> what we want to predict\n",
    "\n",
    "    # \"logits\" -> embedded input numbers\n",
    "    logits = self.token_embedding_table(inputs)\n",
    "\n",
    "    if predictions is None:\n",
    "      return logits, None\n",
    "\n",
    "    B, T, C = logits.shape\n",
    "    logits = logits.view(B*T, C)\n",
    "    predictions = predictions.view(-1)\n",
    "\n",
    "    loss = F.cross_entropy(logits, predictions)\n",
    "\n",
    "    return logits, loss\n",
    "\n",
    "  def generate(self, idx, max_new_tokens):\n",
    "    # idx is a (Batch, Time) tensor of integers, representing current context\n",
    "    for _ in range(max_new_tokens):\n",
    "      # compute the predictions\n",
    "      logits, loss = self(idx) # (B, T, C)\n",
    "\n",
    "      # -1 makes very little sense for a bigram model,\n",
    "      # as we're essentially throwing away everything except the very last token in a batch\n",
    "      # to make our prediction.\n",
    "      # This is done in such a way only to allow for easier transition to an N-gram model later.\n",
    "      logits = logits[:, -1, :] # (B, C)\n",
    "\n",
    "      # Probabilities from logits\n",
    "      # Softmax ~ [1, 2, 3, 4]\n",
    "      probs = F.softmax(logits, dim=-1)\n",
    "      idx_next = torch.multinomial(probs, num_samples=1) # (B, 1)\n",
    "\n",
    "      # append to the currently running context\n",
    "      idx = torch.cat((idx, idx_next), dim=1) # (B, T + 1)\n",
    "    return idx\n",
    "\n",
    "m = BigramLanguageModel(vocab_size)"
   ]
  },
  {
   "cell_type": "code",
   "execution_count": 159,
   "metadata": {},
   "outputs": [
    {
     "name": "stdout",
     "output_type": "stream",
     "text": [
      "\n",
      "VInkfe Norer Cı#ع用п., No se家Viland₹=智™潤غÂMesecone\n",
      "Mif Twiovit Joe\n",
      "SADousidys D3re M&持кء@øтн亮模ĀŞ营ب遠ğ板\n"
     ]
    }
   ],
   "source": [
    "# Sample generate\n",
    "idx = torch.zeros((1, 1), dtype=torch.long)\n",
    "logits = m.generate(idx, max_new_tokens=100)[0]\n",
    "\n",
    "print(\n",
    "  decode(\n",
    "    logits.tolist()\n",
    "  )\n",
    ")"
   ]
  },
  {
   "cell_type": "code",
   "execution_count": 136,
   "metadata": {},
   "outputs": [
    {
     "name": "stderr",
     "output_type": "stream",
     "text": [
      "/usr/local/lib/python3.8/dist-packages/tqdm/auto.py:21: TqdmWarning: IProgress not found. Please update jupyter and ipywidgets. See https://ipywidgets.readthedocs.io/en/stable/user_install.html\n",
      "  from .autonotebook import tqdm as notebook_tqdm\n"
     ]
    }
   ],
   "source": [
    "optimizer = torch.optim.AdamW(m.parameters(), lr=1e-3)"
   ]
  },
  {
   "cell_type": "code",
   "execution_count": 152,
   "metadata": {},
   "outputs": [
    {
     "name": "stdout",
     "output_type": "stream",
     "text": [
      "2.6536026000976562\n"
     ]
    }
   ],
   "source": [
    "# Sample training loop\n",
    "batch_size = 32\n",
    "train_steps = 100\n",
    "device = 'cuda'\n",
    "\n",
    "for steps in range(train_steps):\n",
    "  # sample a batch of data\n",
    "  xb, yb = get_batch('train')\n",
    "  xb.to(device)\n",
    "  yb.to(device)\n",
    "\n",
    "  # eval\n",
    "  logits, loss = m(xb, yb)\n",
    "  optimizer.zero_grad(set_to_none=True)\n",
    "  loss.backward()\n",
    "  optimizer.step()\n",
    "\n",
    "print(loss.item())"
   ]
  },
  {
   "cell_type": "code",
   "execution_count": 160,
   "metadata": {},
   "outputs": [
    {
     "data": {
      "text/plain": [
       "torch.Size([4, 8, 2])"
      ]
     },
     "execution_count": 160,
     "metadata": {},
     "output_type": "execute_result"
    }
   ],
   "source": [
    "torch.manual_seed(42)\n",
    "\n",
    "B, T, C = 4, 8, 2 # Batch, Time, Channel\n",
    "x = torch.randn(B, T, C)\n",
    "x.shape"
   ]
  },
  {
   "cell_type": "code",
   "execution_count": 161,
   "metadata": {},
   "outputs": [
    {
     "data": {
      "text/plain": [
       "tensor([[1., 0., 0., 0., 0., 0., 0., 0.],\n",
       "        [1., 1., 0., 0., 0., 0., 0., 0.],\n",
       "        [1., 1., 1., 0., 0., 0., 0., 0.],\n",
       "        [1., 1., 1., 1., 0., 0., 0., 0.],\n",
       "        [1., 1., 1., 1., 1., 0., 0., 0.],\n",
       "        [1., 1., 1., 1., 1., 1., 0., 0.],\n",
       "        [1., 1., 1., 1., 1., 1., 1., 0.],\n",
       "        [1., 1., 1., 1., 1., 1., 1., 1.]])"
      ]
     },
     "execution_count": 161,
     "metadata": {},
     "output_type": "execute_result"
    }
   ],
   "source": [
    "torch.tril(torch.ones(T, T))"
   ]
  },
  {
   "cell_type": "code",
   "execution_count": 164,
   "metadata": {},
   "outputs": [
    {
     "data": {
      "text/plain": [
       "tensor([[ 1.9269,  1.4873],\n",
       "        [ 1.4138, -0.3091],\n",
       "        [ 1.1687, -0.6176],\n",
       "        [ 0.8657, -0.8644],\n",
       "        [ 0.5422, -0.3617],\n",
       "        [ 0.3864, -0.5354],\n",
       "        [ 0.2272, -0.5388],\n",
       "        [ 0.1027, -0.3762]])"
      ]
     },
     "execution_count": 164,
     "metadata": {},
     "output_type": "execute_result"
    }
   ],
   "source": [
    "'We have pizza. Roma ate '\n",
    "\n",
    "xbow = torch.zeros(B, T, C)\n",
    "\n",
    "for b in range(B):\n",
    "  for t in range(T):\n",
    "    xprev = x[b,:t+1]\n",
    "    xbow[b, t] = torch.mean(xprev, 0)"
   ]
  },
  {
   "cell_type": "code",
   "execution_count": 165,
   "metadata": {},
   "outputs": [
    {
     "data": {
      "text/plain": [
       "tensor([[ 1.9269,  1.4873],\n",
       "        [ 0.9007, -2.1055],\n",
       "        [ 0.6784, -1.2345],\n",
       "        [-0.0431, -1.6047],\n",
       "        [-0.7521,  1.6487],\n",
       "        [-0.3925, -1.4036],\n",
       "        [-0.7279, -0.5594],\n",
       "        [-0.7688,  0.7624]])"
      ]
     },
     "execution_count": 165,
     "metadata": {},
     "output_type": "execute_result"
    }
   ],
   "source": [
    "x[0]"
   ]
  },
  {
   "cell_type": "code",
   "execution_count": 166,
   "metadata": {},
   "outputs": [
    {
     "data": {
      "text/plain": [
       "tensor([[ 1.9269,  1.4873],\n",
       "        [ 1.4138, -0.3091],\n",
       "        [ 1.1687, -0.6176],\n",
       "        [ 0.8657, -0.8644],\n",
       "        [ 0.5422, -0.3617],\n",
       "        [ 0.3864, -0.5354],\n",
       "        [ 0.2272, -0.5388],\n",
       "        [ 0.1027, -0.3762]])"
      ]
     },
     "execution_count": 166,
     "metadata": {},
     "output_type": "execute_result"
    }
   ],
   "source": [
    "xbow[0]"
   ]
  },
  {
   "cell_type": "code",
   "execution_count": 173,
   "metadata": {},
   "outputs": [
    {
     "data": {
      "text/plain": [
       "tensor([[1., 0., 0.],\n",
       "        [1., 1., 0.],\n",
       "        [1., 1., 1.]])"
      ]
     },
     "execution_count": 173,
     "metadata": {},
     "output_type": "execute_result"
    }
   ],
   "source": [
    "torch.tril(torch.ones(3, 3))"
   ]
  },
  {
   "cell_type": "code",
   "execution_count": 177,
   "metadata": {},
   "outputs": [
    {
     "name": "stdout",
     "output_type": "stream",
     "text": [
      "tensor([[1.0000, 0.0000, 0.0000],\n",
      "        [0.5000, 0.5000, 0.0000],\n",
      "        [0.3333, 0.3333, 0.3333]])\n",
      "@\n",
      "tensor([[2., 7.],\n",
      "        [6., 4.],\n",
      "        [6., 5.]])\n",
      "=\n",
      "tensor([[2.0000, 7.0000],\n",
      "        [4.0000, 5.5000],\n",
      "        [4.6667, 5.3333]])\n"
     ]
    }
   ],
   "source": [
    "torch.manual_seed(42)\n",
    "\n",
    "a = torch.tril(torch.ones(3, 3))\n",
    "a = a / torch.sum(a, 1, keepdim=True)\n",
    "b = torch.randint(0, 10, (3, 2)).float()\n",
    "\n",
    "c = a @ b\n",
    "\n",
    "print(a)\n",
    "print('@')\n",
    "print(b)\n",
    "print('=')\n",
    "print(c)"
   ]
  },
  {
   "cell_type": "code",
   "execution_count": 182,
   "metadata": {},
   "outputs": [
    {
     "name": "stdout",
     "output_type": "stream",
     "text": [
      "tensor([1., 0., 0., 0., 0., 0., 0., 0.]) tensor([[ 1.9269,  1.4873],\n",
      "        [ 0.9007, -2.1055],\n",
      "        [ 0.6784, -1.2345],\n",
      "        [-0.0431, -1.6047],\n",
      "        [-0.7521,  1.6487],\n",
      "        [-0.3925, -1.4036],\n",
      "        [-0.7279, -0.5594],\n",
      "        [-0.7688,  0.7624]]) tensor([[ 1.9269,  1.4873],\n",
      "        [ 1.4138, -0.3091],\n",
      "        [ 1.1687, -0.6176],\n",
      "        [ 0.8657, -0.8644],\n",
      "        [ 0.5422, -0.3617],\n",
      "        [ 0.3864, -0.5354],\n",
      "        [ 0.2272, -0.5388],\n",
      "        [ 0.1027, -0.3762]])\n"
     ]
    }
   ],
   "source": [
    "wei = torch.tril(torch.ones(T, T))\n",
    "wei = wei / wei.sum(1, keepdim=True)\n",
    "\n",
    "xbow2 = wei @ x\n",
    "\n",
    "# print(wei[0], x[0], xbow[0])\n"
   ]
  }
 ],
 "metadata": {
  "kernelspec": {
   "display_name": "Python 3 (ipykernel)",
   "language": "python",
   "name": "python3"
  },
  "language_info": {
   "codemirror_mode": {
    "name": "ipython",
    "version": 3
   },
   "file_extension": ".py",
   "mimetype": "text/x-python",
   "name": "python",
   "nbconvert_exporter": "python",
   "pygments_lexer": "ipython3",
   "version": "3.8.10"
  }
 },
 "nbformat": 4,
 "nbformat_minor": 2
}
