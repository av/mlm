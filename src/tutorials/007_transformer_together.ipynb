{
 "cells": [
  {
   "cell_type": "markdown",
   "metadata": {},
   "source": [
    "### Transformer Together\n",
    "\n",
    "👋 Thanks for agreeing to join our wierd tutorial-o-thon. Here're the things that you want to know:\n",
    "\n",
    "#### Participants\n",
    "\n",
    "- @av\n",
    "- @stradivar\n",
    "- @RomanSavarin\n",
    "- @wpierwolacraft\n",
    "- @StanislavRassolenko\n",
    "\n",
    "#### Goal\n",
    "\n",
    "- Go through as large chunk of [Karpathy's NanoGPT tutorial](https://www.youtube.com/watch?v=kCc8FmEb1nY&ab_channel=AndrejKarpathy) as we can\n",
    "- Understand all the relevants bits and pieces along the way the best we can\n",
    "- Enjoy the beautiful awrkwardness of trying to code something together with a few random dudes\n",
    "- Nerd out\n",
    "\n",
    "We'll likely won't complete the tutorial, but we'll try to tackle as much as possible. \n",
    "For final reference, here's a [Completed Tutorial Notebook](https://github.com/av/mlm/blob/main/src/tutorials/006_bigram_v4_transformer.ipynb)\n",
    "\n",
    "#### Logistics\n",
    "\n",
    "- Arrive around 12am, May 26th, the address was sent to you privately\n",
    "- @av will order pizza and provide snacks/drinks, but feel free to bring your own\n",
    "- Have your laptop with you, maybe a charger, Internet will be available via WiFi\n",
    "\n",
    "#### How to prepare?\n",
    "\n",
    "- You'll need a Jupyter-notebook compatible environment, preferrably with a GPU support\n",
    "  - If you know what you're doing - skip this section\n",
    "  - Otherwise, you don't need anything special! A _very easy_ option is to use [Google Colab](https://colab.research.google.com/) (Google Colaboratory)\n",
    "    - You'll only need a Browser and Google Account to start\n",
    "    - See setup guide below\n",
    "- You don't need any deep special knowledge of Python, the only requirement is to be able to read and understand the code like this:<br/>\n",
    "  ```python\n",
    "  from module import function\n",
    "\n",
    "  def add(a, b):\n",
    "      return a + b\n",
    "\n",
    "  print(add(1, 2))\n",
    "\n",
    "  class MyClass:\n",
    "      def __init__(self, a):\n",
    "          self.a = a\n",
    "\n",
    "      def add(self, b):\n",
    "          return self.a + b\n",
    "  ```\n",
    "\n",
    "- In terms of actual knowledge, the more you know the more boring the session will be, so _don't worry too much_\n",
    "  - If you can imagine how a 768-dimensional vector looks like, or how multiplying two matrices could mean a relationship between two words in a text - you're just there for foods and company 😃\n",
    "- If you want to keep it boring, here're a few cool things as a refresher\n",
    "  - [📽️ Linear Algebra](https://www.3blue1brown.com/topics/linear-algebra) (you're interested in Vectors, Matrices, Dot Product, mainly)\n",
    "  - [📽️ Neural Networks and Deep Learning](https://www.3blue1brown.com/topics/neural-networks)\n",
    "  - [📽️ Watching a Neural Network learn](https://www.youtube.com/watch?v=TkwXa7Cvfr8&ab_channel=EmergentGarden)\n",
    "  - [📜/👁️ Immersive Linear Algebra](https://immersivemath.com/ila/tableofcontents.html?)\n",
    "  - [📜/👁️ A visual intro to machine learning](http://www.r2d3.us/visual-intro-to-machine-learning-part-1/)\n",
    "  - [📜 Neural Networks and Deep Learning](http://neuralnetworksanddeeplearning.com/)\n",
    "\n",
    "##### Google Colab setup\n",
    "\n",
    "Colab allows you to clone arbitrary Notebooks from the GitHub, such as this one 🎉.\n",
    "Here's a URL of this Notebook to import it into Colab:\n",
    "\n",
    "```\n",
    "https://github.com/av/mlm/blob/main/src/tutorials/007_transformer_together.ipynb\n",
    "```\n",
    "\n",
    "Once imported, you're good to go! 🚀\n",
    "\n",
    "When we'll get to actual training, you might want to switch to a GPU-enabled runtime. To do so, go to `Runtime` -> `Change runtime type` and select `GPU` from the dropdown. The runtime will have limited time, but we'll figure it out when we get there."
   ]
  },
  {
   "cell_type": "markdown",
   "metadata": {},
   "source": [
    "### Hello, Colab"
   ]
  },
  {
   "cell_type": "code",
   "execution_count": null,
   "metadata": {},
   "outputs": [],
   "source": [
    "# While your cursor inside,\n",
    "# run code cells with Ctrl/Cmd + Enter\n",
    "print('Hello, Colab!')"
   ]
  },
  {
   "cell_type": "code",
   "execution_count": null,
   "metadata": {},
   "outputs": [],
   "source": [
    "# torch should be available by default\n",
    "# in Colab's notebook runtime\n",
    "import torch\n",
    "\n",
    "# Should be False in default Colab Runtime,\n",
    "# True when used with GPU\n",
    "torch.cude.is_available()"
   ]
  },
  {
   "cell_type": "markdown",
   "metadata": {},
   "source": [
    "### Get the data"
   ]
  },
  {
   "cell_type": "code",
   "execution_count": null,
   "metadata": {},
   "outputs": [],
   "source": [
    "# This code will download our sample dataset to be used by the notebook\n",
    "import requests\n",
    "\n",
    "# Shakespeare's works dataset\n",
    "dataset = \"https://raw.githubusercontent.com/karpathy/char-rnn/master/data/tinyshakespeare/input.txt\"\n",
    "\n",
    "# News headlines dataset\n",
    "# dataset = \"\"\n",
    "\n",
    "def download_dataset(url):\n",
    "\tresponse = requests.get(url)\n",
    "\n",
    "\tif response.status_code == 200:\n",
    "\t\twith open(\"dataset.txt\", \"wb\") as file:\n",
    "\t\t\tfile.write(response.content)\n",
    "\t\t\tprint(\"File downloaded successfully.\")\n",
    "\telse:\n",
    "\t\tprint(\"Failed to download the file.\")\n",
    "\n",
    "download_dataset(dataset)"
   ]
  },
  {
   "cell_type": "code",
   "execution_count": null,
   "metadata": {},
   "outputs": [],
   "source": [
    "with open ('dataset.txt', 'r', encoding='utf-8') as file:\n",
    "    text = file.read()"
   ]
  },
  {
   "cell_type": "code",
   "execution_count": null,
   "metadata": {},
   "outputs": [],
   "source": [
    "print(\"Characters: \", len(text))"
   ]
  },
  {
   "cell_type": "code",
   "execution_count": null,
   "metadata": {},
   "outputs": [],
   "source": [
    "print(text[:100])"
   ]
  },
  {
   "cell_type": "markdown",
   "metadata": {},
   "source": [
    "### Code away!"
   ]
  },
  {
   "cell_type": "code",
   "execution_count": null,
   "metadata": {},
   "outputs": [],
   "source": []
  }
 ],
 "metadata": {
  "language_info": {
   "name": "python"
  }
 },
 "nbformat": 4,
 "nbformat_minor": 2
}
