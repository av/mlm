{
 "cells": [
  {
   "cell_type": "code",
   "execution_count": 2,
   "metadata": {},
   "outputs": [
    {
     "name": "stdout",
     "output_type": "stream",
     "text": [
      "Sun May 26 13:46:47 2024       \n",
      "+-----------------------------------------------------------------------------------------+\n",
      "| NVIDIA-SMI 550.67                 Driver Version: 550.67         CUDA Version: 12.4     |\n",
      "|-----------------------------------------+------------------------+----------------------+\n",
      "| GPU  Name                 Persistence-M | Bus-Id          Disp.A | Volatile Uncorr. ECC |\n",
      "| Fan  Temp   Perf          Pwr:Usage/Cap |           Memory-Usage | GPU-Util  Compute M. |\n",
      "|                                         |                        |               MIG M. |\n",
      "|=========================================+========================+======================|\n",
      "|   0  NVIDIA GeForce RTX 4090 ...    Off |   00000000:01:00.0  On |                  N/A |\n",
      "| N/A   42C    P5             16W /  160W |     320MiB /  16376MiB |     32%      Default |\n",
      "|                                         |                        |                  N/A |\n",
      "+-----------------------------------------+------------------------+----------------------+\n",
      "                                                                                         \n",
      "+-----------------------------------------------------------------------------------------+\n",
      "| Processes:                                                                              |\n",
      "|  GPU   GI   CI        PID   Type   Process name                              GPU Memory |\n",
      "|        ID   ID                                                               Usage      |\n",
      "|=========================================================================================|\n",
      "+-----------------------------------------------------------------------------------------+\n"
     ]
    }
   ],
   "source": [
    "!nvidia-smi"
   ]
  },
  {
   "cell_type": "code",
   "execution_count": 3,
   "metadata": {},
   "outputs": [
    {
     "data": {
      "text/plain": [
       "True"
      ]
     },
     "execution_count": 3,
     "metadata": {},
     "output_type": "execute_result"
    }
   ],
   "source": [
    "import torch\n",
    "\n",
    "torch.cuda.is_available()"
   ]
  },
  {
   "cell_type": "code",
   "execution_count": 4,
   "metadata": {},
   "outputs": [],
   "source": [
    "batch_size = 64\n",
    "block_size = 256\n",
    "\n",
    "learning_rate = 3e-4\n",
    "device = 'cuda'\n",
    "eval_iters = 200\n",
    "train_split = 0.9\n",
    "\n",
    "n_embd = 384\n",
    "n_head = 6\n",
    "n_layer = 6\n",
    "dropout = 0.2"
   ]
  },
  {
   "cell_type": "code",
   "execution_count": 5,
   "metadata": {},
   "outputs": [],
   "source": [
    "with open ('/data/news.txt', 'r', encoding='utf-8') as file:\n",
    "    text = file.read()\n",
    "\n",
    "chars = sorted(list(set(text)))\n",
    "vocab_size = len(chars)\n",
    "\n",
    "stoi = { ch:i for i,ch in enumerate(chars) }\n",
    "itos = { i:ch for i,ch in enumerate(chars) }\n",
    "\n",
    "encode = lambda s: [stoi[c] for c in s] # encoder: map string to char ids\n",
    "decode = lambda l: ''.join([itos[i] for i in l]) # decoder: map integer ids to a string\n",
    "\n",
    "data = torch.tensor(encode(text), dtype=torch.long)\n",
    "\n",
    "# Splitting the dataset into training and validation sets\n",
    "n = int(train_split * len(data)) # 90% training, 10% validation\n",
    "train_data, validation_data = data[:n], data[n:]\n",
    "\n",
    "def get_batch(split):\n",
    "  # batch of data of inputs x and targets y\n",
    "  data = train_data if split == 'train' else validation_data\n",
    "  # array(batch_size) of random offsets within data\n",
    "  ix = torch.randint(len(data) - block_size, (batch_size,))\n",
    "\n",
    "  # Context and target sequences\n",
    "  # ? Why a single sequence is not used?\n",
    "  x = torch.stack([data[i:i+block_size] for i in ix])\n",
    "  y = torch.stack([data[i+1:i+block_size+1] for i in ix])\n",
    "\n",
    "  x, y = x.to(device), y.to(device)\n",
    "\n",
    "  return x, y"
   ]
  },
  {
   "cell_type": "code",
   "execution_count": 6,
   "metadata": {},
   "outputs": [],
   "source": [
    "@torch.no_grad()\n",
    "def estimate_loss():\n",
    "  out = {}\n",
    "  model.eval()\n",
    "\n",
    "  for split in ['train', 'validation']:\n",
    "    losses = torch.zeros(eval_iters)\n",
    "    for k in range(eval_iters):\n",
    "      X, Y = get_batch(split)\n",
    "      logits, loss = model(X, Y)\n",
    "      losses[k] = loss.item()\n",
    "\n",
    "    out[split] = losses.mean()\n",
    "\n",
    "  model.train()\n",
    "  return out"
   ]
  },
  {
   "cell_type": "code",
   "execution_count": 7,
   "metadata": {},
   "outputs": [
    {
     "name": "stderr",
     "output_type": "stream",
     "text": [
      "/usr/local/lib/python3.8/dist-packages/tqdm/auto.py:21: TqdmWarning: IProgress not found. Please update jupyter and ipywidgets. See https://ipywidgets.readthedocs.io/en/stable/user_install.html\n",
      "  from .autonotebook import tqdm as notebook_tqdm\n"
     ]
    }
   ],
   "source": [
    "import torch\n",
    "import torch.nn as nn\n",
    "from torch.nn import functional as F\n",
    "\n",
    "torch.manual_seed(42)\n",
    "\n",
    "class Head(nn.Module):\n",
    "  \"\"\" One self-attention head\"\"\"\n",
    "  def __init__(self, head_size):\n",
    "    super().__init__()\n",
    "\n",
    "    self.key = nn.Linear(n_embd, head_size, bias=False)\n",
    "    self.query = nn.Linear(n_embd, head_size, bias=False)\n",
    "    self.value = nn.Linear(n_embd, head_size, bias=False)\n",
    "\n",
    "    self.register_buffer('tril', torch.tril(torch.ones(block_size, block_size)))\n",
    "    self.dropout = nn.Dropout(dropout)\n",
    "\n",
    "  def forward(self, x):\n",
    "    B, T, C = x.shape\n",
    "\n",
    "    k = self.key(x)\n",
    "    q = self.query(x)\n",
    "\n",
    "    # **0.5 is to avoid softmax from getting too peaky\n",
    "    # when incoming values are large/spread out.\n",
    "    wei = q @ k.transpose(-2, -1) * C**-0.5\n",
    "    wei = wei.masked_fill(\n",
    "      self.tril[:T, :T] == 0,\n",
    "      float('-inf')\n",
    "    )\n",
    "    wei = F.softmax(wei, dim = -1)\n",
    "    wei = self.dropout(wei)\n",
    "\n",
    "    v = self.value(x)\n",
    "    out = wei @ v\n",
    "\n",
    "    return out\n",
    "\n",
    "class MultiHeadAttention(nn.Module):\n",
    "  \"\"\" Multiple heads of self-attention in parallel \"\"\"\n",
    "\n",
    "  def __init__(self, num_heads, head_size):\n",
    "    super().__init__()\n",
    "\n",
    "    self.heads = nn.ModuleList(\n",
    "      [Head(head_size) for _ in range(num_heads)]\n",
    "    )\n",
    "    self.proj = nn.Linear(n_embd, n_embd)\n",
    "    self.dropout = nn.Dropout(dropout)\n",
    "\n",
    "  def forward(self, x):\n",
    "    out = torch.cat([h(x) for h in self.heads], dim=-1)\n",
    "    out = self.dropout(self.proj(out))\n",
    "    return out\n",
    "\n",
    "\n",
    "class FeedForward(nn.Module):\n",
    "  \"\"\" Linear layer with ReLU activation in between \"\"\"\n",
    "\n",
    "  def __init__(self, n_embd):\n",
    "    super().__init__()\n",
    "    self.net = nn.Sequential(\n",
    "      nn.Linear(n_embd, n_embd * 4),\n",
    "      nn.ReLU(),\n",
    "      nn.Linear(n_embd * 4, n_embd),\n",
    "      nn.Dropout(dropout),\n",
    "    )\n",
    "\n",
    "  def forward(self, x):\n",
    "    return self.net(x)\n",
    "\n",
    "\n",
    "class Block(nn.Module):\n",
    "  \"\"\" Transformer block: communication (attention) followed by computation (feedforward) \"\"\"\n",
    "\n",
    "  def __init__(self, n_embd, n_head):\n",
    "    super().__init__()\n",
    "    head_size = n_embd // n_head\n",
    "    self.sa = MultiHeadAttention(n_head, head_size)\n",
    "    self.ffwd = FeedForward(n_embd)\n",
    "    self.ln1 = nn.LayerNorm(n_embd)\n",
    "    self.ln2 = nn.LayerNorm(n_embd)\n",
    "\n",
    "  def forward(self, x):\n",
    "    x = x + self.sa(self.ln1(x))\n",
    "    x = x + self.ffwd(self.ln2(x))\n",
    "\n",
    "    return x\n",
    "\n",
    "class BigramLanguageModel(nn.Module):\n",
    "  def __init__(self):\n",
    "    super().__init__()\n",
    "\n",
    "    # Video says: each token directly reads off the logits for the next token\n",
    "    # from the lookup table.\n",
    "    self.token_embedding_table = nn.Embedding(vocab_size, n_embd)\n",
    "    self.position_embedding_table = nn.Embedding(block_size, n_embd)\n",
    "\n",
    "    self.blocks = nn.Sequential(\n",
    "      *[Block(n_embd, n_head=n_head) for _ in range(n_layer)]\n",
    "    )\n",
    "    self.ln_f = nn.LayerNorm(n_embd)\n",
    "\n",
    "    # self.blocks = nn.Sequential(\n",
    "    #   Block(n_embd, n_head=4),\n",
    "    #   Block(n_embd, n_head=4),\n",
    "    #   Block(n_embd, n_head=4),\n",
    "    #   nn.LayerNorm(n_embd),\n",
    "    # )\n",
    "\n",
    "    self.lm_head = nn.Linear(n_embd, vocab_size)\n",
    "\n",
    "  def forward(self, idx, targets=None):\n",
    "    B, T = idx.shape\n",
    "\n",
    "    # idx and targets are (B, T) tensors of integers, Batch, Time\n",
    "    # Token embedding table will return shape of (Batch, Time, Channel)\n",
    "    # Batch - number of sequences\n",
    "    # Time - number of tokens in each sequence\n",
    "    # Channel - Embeddings vector for a token?\n",
    "    tok_emb = self.token_embedding_table(idx)\n",
    "    pos_emb = self.position_embedding_table(torch.arange(T, device=device))\n",
    "\n",
    "    x = tok_emb + pos_emb\n",
    "    x = self.blocks(x)       # (B, T, C), transformer blocks\n",
    "    x = self.ln_f(x)         # (B, T, C), final layer norm\n",
    "    logits = self.lm_head(x) # (B, T, vocab_size)\n",
    "\n",
    "    if targets is None:\n",
    "      return logits, None\n",
    "\n",
    "    B, T, C = logits.shape\n",
    "    logits = logits.view(B*T, C)\n",
    "    targets = targets.view(B*T)\n",
    "\n",
    "    # Cross entropy expects input to be in a 2D tensor of shape (Batch*Time, Channel)\n",
    "    loss = F.cross_entropy(logits, targets)\n",
    "\n",
    "    return logits, loss\n",
    "\n",
    "  def generate(self, idx, max_new_tokens):\n",
    "    # idx is a (Batch, Time) tensor of integers, representing current context\n",
    "    for _ in range(max_new_tokens):\n",
    "      idx_cond = idx[:, -block_size:]\n",
    "\n",
    "      # compute the predictions\n",
    "      logits, loss = self(idx_cond) # (B, T, C)\n",
    "\n",
    "      # -1 makes very little sense for a bigram model,\n",
    "      # as we're essentially throwing away everything except the very last token in a batch\n",
    "      # to make our prediction.\n",
    "      # This is done in such a way only to allow for easier transition to an N-gram model later.\n",
    "      logits = logits[:, -1, :] # (B, C)\n",
    "\n",
    "      # Probabilities from logits\n",
    "      probs = F.softmax(logits, dim=-1)\n",
    "      idx_next = torch.multinomial(probs, num_samples=1) # (B, 1)\n",
    "\n",
    "      # append to the currently running context\n",
    "      idx = torch.cat((idx, idx_next), dim=1) # (B, T + 1)\n",
    "    return idx\n",
    "\n",
    "model = BigramLanguageModel().to(device)\n",
    "optimizer = torch.optim.AdamW(model.parameters(), lr=learning_rate)"
   ]
  },
  {
   "cell_type": "code",
   "execution_count": 12,
   "metadata": {},
   "outputs": [
    {
     "name": "stdout",
     "output_type": "stream",
     "text": [
      "Iter 0, Train loss: 1.282174825668335, Validation loss: 1.3260213136672974\n",
      "Iter 500, Train loss: 1.2670022249221802, Validation loss: 1.3083372116088867\n"
     ]
    }
   ],
   "source": [
    "max_iters = 1000\n",
    "eval_interval = 500\n",
    "\n",
    "for iter in range(max_iters):\n",
    "  if iter % eval_interval == 0:\n",
    "    losses = estimate_loss()\n",
    "    print(f'Iter {iter}, Train loss: {losses[\"train\"]}, Validation loss: {losses[\"validation\"]}')\n",
    "\n",
    "  # Sample batch of data\n",
    "  xb, yb = get_batch('train')\n",
    "\n",
    "  # Eval\n",
    "  logits, loss = model(xb, yb)\n",
    "  optimizer.zero_grad(set_to_none=True)\n",
    "  loss.backward()\n",
    "  optimizer.step()"
   ]
  },
  {
   "cell_type": "code",
   "execution_count": 23,
   "metadata": {},
   "outputs": [
    {
     "data": {
      "text/plain": [
       "tensor([[34, 80, 80, 76, 69]])"
      ]
     },
     "execution_count": 23,
     "metadata": {},
     "output_type": "execute_result"
    }
   ],
   "source": [
    "torch.tensor(encode('Apple'), dtype=torch.long).unsqueeze(0).to(device)"
   ]
  },
  {
   "cell_type": "code",
   "execution_count": 27,
   "metadata": {},
   "outputs": [
    {
     "name": "stdout",
     "output_type": "stream",
     "text": [
      "Apple revenue beats shortp invend expectations for 20% of its but round\n",
      "Fire receives new Roles-Fred Airport - Palestinian De\n"
     ]
    }
   ],
   "source": [
    "# ctx = torch.zeros((1, 1), dtype=torch.long, device=device)\n",
    "# encode\n",
    "ctx = torch.tensor(encode('Apple'), dtype=torch.long).unsqueeze(0).to(device)\n",
    "\n",
    "batch = model.generate(ctx, max_new_tokens=120)\n",
    "logits = batch[0].tolist()\n",
    "\n",
    "print(decode(logits))"
   ]
  }
 ],
 "metadata": {
  "kernelspec": {
   "display_name": "Python 3 (ipykernel)",
   "language": "python",
   "name": "python3"
  },
  "language_info": {
   "codemirror_mode": {
    "name": "ipython",
    "version": 3
   },
   "file_extension": ".py",
   "mimetype": "text/x-python",
   "name": "python",
   "nbconvert_exporter": "python",
   "pygments_lexer": "ipython3",
   "version": "3.8.10"
  }
 },
 "nbformat": 4,
 "nbformat_minor": 2
}
